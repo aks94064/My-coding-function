{
  "nbformat": 4,
  "nbformat_minor": 0,
  "metadata": {
    "colab": {
      "provenance": []
    },
    "kernelspec": {
      "name": "python3",
      "display_name": "Python 3"
    },
    "language_info": {
      "name": "python"
    }
  },
  "cells": [
    {
      "cell_type": "code",
      "execution_count": 3,
      "metadata": {
        "id": "lB3k9nV6Fljo",
        "colab": {
          "base_uri": "https://localhost:8080/",
          "height": 106
        },
        "outputId": "04daafd9-c77d-4308-a560-5edd2f10b6be"
      },
      "outputs": [
        {
          "output_type": "error",
          "ename": "SyntaxError",
          "evalue": "invalid syntax (ipython-input-3-1090889782.py, line 3)",
          "traceback": [
            "\u001b[0;36m  File \u001b[0;32m\"/tmp/ipython-input-3-1090889782.py\"\u001b[0;36m, line \u001b[0;32m3\u001b[0m\n\u001b[0;31m    ***\u001b[0m\n\u001b[0m    ^\u001b[0m\n\u001b[0;31mSyntaxError\u001b[0m\u001b[0;31m:\u001b[0m invalid syntax\n"
          ]
        }
      ],
      "source": []
    },
    {
      "cell_type": "markdown",
      "source": [],
      "metadata": {
        "id": "U2hyiL5dVeH2"
      }
    },
    {
      "cell_type": "code",
      "source": [],
      "metadata": {
        "id": "kaHFeb5UVe2s"
      },
      "execution_count": null,
      "outputs": []
    },
    {
      "cell_type": "markdown",
      "source": [],
      "metadata": {
        "id": "zpMjrvegVfRY"
      }
    },
    {
      "cell_type": "code",
      "source": [],
      "metadata": {
        "id": "wTUmtb0IRLuc"
      },
      "execution_count": null,
      "outputs": []
    },
    {
      "cell_type": "markdown",
      "source": [
        "1.What is your name?\n",
        "  - My name is Akash.\n",
        "\n",
        "2.Your subject?\n",
        "  - Data science\n",
        "\n",
        "\n"
      ],
      "metadata": {
        "id": "--m4PxQDRNoz"
      }
    },
    {
      "cell_type": "markdown",
      "source": [
        "# comments\n",
        "\n",
        "***\n",
        "This is answer\n",
        "***\n",
        "\n",
        "\"\"\"\n",
        "This is mine\n",
        "\"\"\"\n",
        "\n",
        "# comments\n",
        "\n",
        "***\n",
        "H2R\n",
        "***\n",
        "\n",
        "**H2R**\n",
        "\n"
      ],
      "metadata": {
        "id": "qAg7WXKxWQI8"
      }
    }
  ]
}